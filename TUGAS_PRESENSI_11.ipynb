{
  "nbformat": 4,
  "nbformat_minor": 0,
  "metadata": {
    "colab": {
      "name": "TUGAS_PRESENSI_11.ipynb",
      "provenance": [],
      "authorship_tag": "ABX9TyN1fVLrKynJOI7Z7kCMNu6s",
      "include_colab_link": true
    },
    "kernelspec": {
      "name": "python3",
      "display_name": "Python 3"
    }
  },
  "cells": [
    {
      "cell_type": "markdown",
      "metadata": {
        "id": "view-in-github",
        "colab_type": "text"
      },
      "source": [
        "<a href=\"https://colab.research.google.com/github/GustiNgurahRejski12/Pemograman_Python/blob/main/TUGAS_PRESENSI_11.ipynb\" target=\"_parent\"><img src=\"https://colab.research.google.com/assets/colab-badge.svg\" alt=\"Open In Colab\"/></a>"
      ]
    },
    {
      "cell_type": "code",
      "metadata": {
        "colab": {
          "base_uri": "https://localhost:8080/"
        },
        "id": "vzXuAvTkDkzP",
        "outputId": "deda1d5d-e883-4ccf-c6c8-d587aeb8c559"
      },
      "source": [
        "from google.colab import drive\n",
        "drive.mount('/content/drive')"
      ],
      "execution_count": 9,
      "outputs": [
        {
          "output_type": "stream",
          "text": [
            "Drive already mounted at /content/drive; to attempt to forcibly remount, call drive.mount(\"/content/drive\", force_remount=True).\n"
          ],
          "name": "stdout"
        }
      ]
    },
    {
      "cell_type": "code",
      "metadata": {
        "colab": {
          "base_uri": "https://localhost:8080/"
        },
        "id": "yMmNRyLMD-pp",
        "outputId": "5b47417f-10ef-4143-eb40-fdcb5014cba7"
      },
      "source": [
        "cd /content/drive/MyDrive"
      ],
      "execution_count": 10,
      "outputs": [
        {
          "output_type": "stream",
          "text": [
            "/content/drive/MyDrive\n"
          ],
          "name": "stdout"
        }
      ]
    },
    {
      "cell_type": "code",
      "metadata": {
        "id": "0MKOLVc_EBmx"
      },
      "source": [
        "from keras.models import Sequential\n",
        "from keras.layers import Convolution2D, MaxPooling2D\n",
        "from keras.layers.core import Activation, Flatten, Dense\n",
        "from keras.optimizers import Adam\n",
        "from sklearn.preprocessing import LabelBinarizer\n",
        "from sklearn.model_selection import train_test_split\n",
        "from sklearn.metrics import classification_report\n",
        "import matplotlib.pyplot as plt\n",
        "from PIL import Image\n",
        "from imutils import paths\n",
        "import numpy as np\n",
        "import os\n",
        "import cv2"
      ],
      "execution_count": 11,
      "outputs": []
    },
    {
      "cell_type": "code",
      "metadata": {
        "colab": {
          "base_uri": "https://localhost:8080/"
        },
        "id": "842H87VBEOFG",
        "outputId": "cdcae120-d787-4e75-c9c6-d1047b933e03"
      },
      "source": [
        "# grab all image paths in the input dataset directory, then initialize\n",
        "# our list of images and corresponding class labels\n",
        "print(\"[INFO] loading images...\")\n",
        "imagePaths = paths.list_images(\"dataset2\")\n",
        "data = []\n",
        "labels = []"
      ],
      "execution_count": 12,
      "outputs": [
        {
          "output_type": "stream",
          "text": [
            "[INFO] loading images...\n"
          ],
          "name": "stdout"
        }
      ]
    },
    {
      "cell_type": "code",
      "metadata": {
        "id": "X0fFCEhOETvy"
      },
      "source": [
        "# loop over our input images\n",
        "for imagePath in imagePaths:\n",
        "\t# load the input image from disk, resize it to 64x64 pixels, scale\n",
        "\t# the pixel intensities to the range [0, 1], and then update our\n",
        "\t# images list\n",
        "\timage = Image.open(imagePath)\n",
        "  #preprocessing\n",
        "\timage = np.array(image.resize((128, 128))) / 255.0 #normalisasi\n",
        "\tdata.append(image)\n",
        "\n",
        "\t# extract the class label from the file path and update the\n",
        "\t# labels list\n",
        "\tlabel = imagePath.split(os.path.sep)[-2]\n",
        "\tlabels.append(label)"
      ],
      "execution_count": 13,
      "outputs": []
    },
    {
      "cell_type": "code",
      "metadata": {
        "colab": {
          "base_uri": "https://localhost:8080/"
        },
        "id": "uNwO24f6E1EJ",
        "outputId": "301b0fd9-975e-4015-f3a9-a1646502ceee"
      },
      "source": [
        "print(labels)"
      ],
      "execution_count": 14,
      "outputs": [
        {
          "output_type": "stream",
          "text": [
            "['GMB_06', 'GMB_06', 'GMB_06', 'GMB_06', 'GMB_06', 'GMB_06', 'GMB_06', 'GMB_06', 'GMB_06', 'GMB_06', 'GMB_06', 'GMB_06', 'GMB_06', 'GMB_06', 'GMB_06', 'GMB_06', 'GMB_06', 'GMB_06', 'GMB_06', 'GMB_06', 'GMB_06', 'GMB_06', 'GMB_06', 'GMB_06', 'GMB_06', 'GMB_06', 'GMB_06', 'GMB_06', 'GMB_06', 'GMB_06', 'GMB_06', 'GMB_06', 'GMB_06', 'GMB_06', 'GMB_06', 'GMB_06', 'GMB_06', 'GMB_06', 'GMB_06', 'GMB_06', 'GMB_06', 'GMB_06', 'GMB_06', 'GMB_06', 'GMB_06', 'GMB_06', 'GMB_06', 'GMB_06', 'GMB_06', 'GMB_06', 'GMB_06', 'GMB_06', 'GMB_06', 'GMB_06', 'GMB_06', 'GMB_06', 'GMB_06', 'GMB_06', 'GMB_06', 'GMB_06', 'GMB_06', 'GMB_06', 'GMB_06', 'GMB_06', 'GMB_06', 'GMB_06', 'GMB_06', 'GMB_06', 'GMB_06', 'GMB_06', 'GMB_06', 'GMB_06', 'GMB_06', 'GMB_06', 'GMB_06', 'GMB_06', 'GMB_06', 'GMB_06', 'GMB_06', 'GMB_06', 'GMB_06', 'GMB_06', 'GMB_06', 'GMB_06', 'GMB_06', 'GMB_06', 'GMB_06', 'GMB_06', 'GMB_06', 'GMB_06', 'GMB_06', 'GMB_06', 'GMB_06', 'GMB_06', 'GMB_06', 'GMB_06', 'GMB_06', 'GMB_06', 'GMB_06', 'GMB_06', 'GMB_06', 'GMB_06', 'GMB_06', 'GMB_06', 'GMB_06', 'GMB_06', 'GMB_06', 'GMB_06', 'GMB_06', 'GMB_06', 'GMB_06', 'GMB_06', 'GMB_06', 'GMB_06', 'GMB_06', 'GMB_06', 'GMB_06', 'GMB_06', 'GMB_06', 'GMB_06', 'GMB_06', 'GMB_07', 'GMB_07', 'GMB_07', 'GMB_07', 'GMB_07', 'GMB_07', 'GMB_07', 'GMB_07', 'GMB_07', 'GMB_07', 'GMB_07', 'GMB_07', 'GMB_07', 'GMB_07', 'GMB_07', 'GMB_07', 'GMB_07', 'GMB_07', 'GMB_07', 'GMB_07', 'GMB_07', 'GMB_07', 'GMB_07', 'GMB_07', 'GMB_07', 'GMB_07', 'GMB_07', 'GMB_07', 'GMB_07', 'GMB_07', 'GMB_07', 'GMB_07', 'GMB_07', 'GMB_07', 'GMB_07', 'GMB_07', 'GMB_07', 'GMB_07', 'GMB_07', 'GMB_07', 'GMB_07', 'GMB_07', 'GMB_07', 'GMB_07', 'GMB_07', 'GMB_07', 'GMB_07', 'GMB_07', 'GMB_07', 'GMB_07', 'GMB_07', 'GMB_07', 'GMB_07', 'GMB_07', 'GMB_07', 'GMB_07', 'GMB_07', 'GMB_07', 'GMB_07', 'GMB_07', 'GMB_07', 'GMB_07', 'GMB_07', 'GMB_07', 'GMB_07', 'GMB_07', 'GMB_07', 'GMB_07', 'GMB_07', 'GMB_07', 'GMB_07', 'GMB_07', 'GMB_07', 'GMB_07', 'GMB_07', 'GMB_07', 'GMB_07', 'GMB_07', 'GMB_07', 'GMB_07', 'GMB_07', 'GMB_07', 'GMB_07', 'GMB_07', 'GMB_07', 'GMB_07', 'GMB_07', 'GMB_07', 'GMB_07', 'GMB_07', 'GMB_07', 'GMB_07', 'GMB_07', 'GMB_07', 'GMB_07', 'GMB_07', 'GMB_07', 'GMB_07', 'GMB_07', 'GMB_07', 'GMB_07', 'GMB_07', 'GMB_07', 'GMB_07', 'GMB_07', 'GMB_07', 'GMB_07', 'GMB_07', 'GMB_07', 'GMB_07', 'GMB_07', 'GMB_07', 'GMB_07', 'GMB_07', 'GMB_07', 'GMB_07', 'GMB_07', 'GMB_07', 'GMB_07', 'GMB_07', 'GMB_07', 'GMB_08', 'GMB_08', 'GMB_08', 'GMB_08', 'GMB_08', 'GMB_08', 'GMB_08', 'GMB_08', 'GMB_08', 'GMB_08', 'GMB_08', 'GMB_08', 'GMB_08', 'GMB_08', 'GMB_08', 'GMB_08', 'GMB_08', 'GMB_08', 'GMB_08', 'GMB_08', 'GMB_08', 'GMB_08', 'GMB_08', 'GMB_08', 'GMB_08', 'GMB_08', 'GMB_08', 'GMB_08', 'GMB_08', 'GMB_08', 'GMB_08', 'GMB_08', 'GMB_08', 'GMB_08', 'GMB_08', 'GMB_08', 'GMB_08', 'GMB_08', 'GMB_08', 'GMB_08', 'GMB_08', 'GMB_08', 'GMB_08', 'GMB_08', 'GMB_08', 'GMB_08', 'GMB_08', 'GMB_08', 'GMB_08', 'GMB_08', 'GMB_08', 'GMB_08', 'GMB_08', 'GMB_08', 'GMB_08', 'GMB_08', 'GMB_08', 'GMB_08', 'GMB_08', 'GMB_08', 'GMB_08', 'GMB_08', 'GMB_08', 'GMB_08', 'GMB_08', 'GMB_08', 'GMB_08', 'GMB_08', 'GMB_08', 'GMB_08', 'GMB_08', 'GMB_08', 'GMB_08', 'GMB_08', 'GMB_08', 'GMB_08', 'GMB_08', 'GMB_08', 'GMB_08', 'GMB_08', 'GMB_08', 'GMB_08', 'GMB_08', 'GMB_08', 'GMB_08', 'GMB_08', 'GMB_08', 'GMB_08', 'GMB_08', 'GMB_08', 'GMB_08', 'GMB_08', 'GMB_08', 'GMB_08', 'GMB_08', 'GMB_08', 'GMB_08', 'GMB_08', 'GMB_08', 'GMB_08', 'GMB_08', 'GMB_08', 'GMB_08', 'GMB_08', 'GMB_08', 'GMB_08', 'GMB_08', 'GMB_08', 'GMB_08', 'GMB_08', 'GMB_08', 'GMB_08', 'GMB_08', 'GMB_08', 'GMB_08', 'GMB_08', 'GMB_08', 'GMB_09', 'GMB_09', 'GMB_09', 'GMB_09', 'GMB_09', 'GMB_09', 'GMB_09', 'GMB_09', 'GMB_09', 'GMB_09', 'GMB_09', 'GMB_09', 'GMB_09', 'GMB_09', 'GMB_09', 'GMB_09', 'GMB_09', 'GMB_09', 'GMB_09', 'GMB_09', 'GMB_09', 'GMB_09', 'GMB_09', 'GMB_09', 'GMB_09', 'GMB_09', 'GMB_09', 'GMB_09', 'GMB_09', 'GMB_09', 'GMB_09', 'GMB_09', 'GMB_09', 'GMB_09', 'GMB_09', 'GMB_09', 'GMB_09', 'GMB_09', 'GMB_09', 'GMB_09', 'GMB_09', 'GMB_09', 'GMB_09', 'GMB_09', 'GMB_09', 'GMB_09', 'GMB_09', 'GMB_09', 'GMB_09', 'GMB_09', 'GMB_09', 'GMB_09', 'GMB_09', 'GMB_09', 'GMB_09', 'GMB_09', 'GMB_09', 'GMB_09', 'GMB_09', 'GMB_09', 'GMB_09', 'GMB_09', 'GMB_09', 'GMB_09', 'GMB_09', 'GMB_09', 'GMB_09', 'GMB_09', 'GMB_09', 'GMB_09', 'GMB_09', 'GMB_09', 'GMB_09', 'GMB_09', 'GMB_09', 'GMB_09', 'GMB_09', 'GMB_09', 'GMB_09', 'GMB_09', 'GMB_09', 'GMB_09', 'GMB_09', 'GMB_09', 'GMB_09', 'GMB_09', 'GMB_09', 'GMB_09', 'GMB_09', 'GMB_09', 'GMB_09', 'GMB_09', 'GMB_09', 'GMB_09', 'GMB_09', 'GMB_09', 'GMB_09', 'GMB_09', 'GMB_09', 'GMB_09', 'GMB_09', 'GMB_09', 'GMB_09', 'GMB_09', 'GMB_09', 'GMB_09', 'GMB_09', 'GMB_09', 'GMB_09', 'GMB_09', 'GMB_09', 'GMB_09', 'GMB_09', 'GMB_09', 'GMB_09', 'GMB_10', 'GMB_10', 'GMB_10', 'GMB_10', 'GMB_10', 'GMB_10', 'GMB_10', 'GMB_10', 'GMB_10', 'GMB_10', 'GMB_10', 'GMB_10', 'GMB_10', 'GMB_10', 'GMB_10', 'GMB_10', 'GMB_10', 'GMB_10', 'GMB_10', 'GMB_10', 'GMB_10', 'GMB_10', 'GMB_10', 'GMB_10', 'GMB_10', 'GMB_10', 'GMB_10', 'GMB_10', 'GMB_10', 'GMB_10', 'GMB_10', 'GMB_10', 'GMB_10', 'GMB_10', 'GMB_10', 'GMB_10', 'GMB_10', 'GMB_10', 'GMB_10', 'GMB_10', 'GMB_10', 'GMB_10', 'GMB_10', 'GMB_10', 'GMB_10', 'GMB_10', 'GMB_10', 'GMB_10', 'GMB_10', 'GMB_10', 'GMB_10', 'GMB_10', 'GMB_10', 'GMB_10', 'GMB_10', 'GMB_10', 'GMB_10', 'GMB_10', 'GMB_10', 'GMB_10', 'GMB_10', 'GMB_10', 'GMB_10', 'GMB_10', 'GMB_10', 'GMB_10', 'GMB_10', 'GMB_10', 'GMB_10', 'GMB_10', 'GMB_10', 'GMB_10', 'GMB_10', 'GMB_10', 'GMB_10', 'GMB_10', 'GMB_10', 'GMB_10', 'GMB_10', 'GMB_10', 'GMB_10', 'GMB_10', 'GMB_10', 'GMB_10', 'GMB_10', 'GMB_10', 'GMB_10', 'GMB_10', 'GMB_10', 'GMB_10', 'GMB_10', 'GMB_10', 'GMB_10', 'GMB_10', 'GMB_10', 'GMB_10', 'GMB_10', 'GMB_10', 'GMB_10', 'GMB_10', 'GMB_10', 'GMB_10', 'GMB_10', 'GMB_10', 'GMB_10', 'GMB_10', 'GMB_10', 'GMB_10', 'GMB_10', 'GMB_10', 'GMB_10', 'GMB_10', 'GMB_10', 'GMB_10']\n"
          ],
          "name": "stdout"
        }
      ]
    },
    {
      "cell_type": "code",
      "metadata": {
        "id": "2bjkyY2eE7Cf"
      },
      "source": [
        "# encode the labels, converting them from strings to integers\n",
        "lb = LabelBinarizer()\n",
        "labels = lb.fit_transform(labels)"
      ],
      "execution_count": 15,
      "outputs": []
    },
    {
      "cell_type": "code",
      "metadata": {
        "colab": {
          "base_uri": "https://localhost:8080/"
        },
        "id": "CdTg9TOuE-P2",
        "outputId": "2aeb1aac-091f-4536-eb3e-2b968f36522e"
      },
      "source": [
        "print(labels)"
      ],
      "execution_count": 16,
      "outputs": [
        {
          "output_type": "stream",
          "text": [
            "[[1 0 0 0 0]\n",
            " [1 0 0 0 0]\n",
            " [1 0 0 0 0]\n",
            " ...\n",
            " [0 0 0 0 1]\n",
            " [0 0 0 0 1]\n",
            " [0 0 0 0 1]]\n"
          ],
          "name": "stdout"
        }
      ]
    },
    {
      "cell_type": "code",
      "metadata": {
        "colab": {
          "base_uri": "https://localhost:8080/"
        },
        "id": "4EQguK7NFE6e",
        "outputId": "2b819f1a-0ff1-4991-d6a9-1f741195c2ab"
      },
      "source": [
        "(trainX, testX, trainY, testY) = train_test_split(np.array(data), np.array(labels), test_size=0.3, shuffle=True)\n",
        "print(trainX.shape)\n",
        "print(testX.shape)"
      ],
      "execution_count": 17,
      "outputs": [
        {
          "output_type": "stream",
          "text": [
            "(411, 128, 128, 3)\n",
            "(177, 128, 128, 3)\n"
          ],
          "name": "stdout"
        }
      ]
    },
    {
      "cell_type": "code",
      "metadata": {
        "id": "z-TConpxFGJN"
      },
      "source": [
        "model = Sequential()\n",
        "model.add(Convolution2D(64, 16, 3, activation='relu', input_shape=(128, 128, 3)))\n",
        "model.add(MaxPooling2D(2, 2))\n",
        "model.add(Convolution2D(128, 3, 3, activation='relu'))\n",
        "model.add(MaxPooling2D(2, 2))\n",
        "\n",
        "model.add(Flatten())\n",
        "model.add(Dense(128, activation='relu'))\n",
        "model.add(Dense(64, activation='relu'))\n",
        "model.add(Dense(64, activation='relu'))\n",
        "model.add(Dense(32, activation='relu')) \n",
        "model.add(Dense(5, activation='softmax'))"
      ],
      "execution_count": 33,
      "outputs": []
    },
    {
      "cell_type": "code",
      "metadata": {
        "id": "wERHdKrHFMs8"
      },
      "source": [
        "#  model = Sequential(\n",
        "#      [\n",
        "#     Flatten(input_shape=(64*64*3,)),\n",
        "#      Dense(144, activation=\"relu\", name=\"layer1\"),\n",
        "#      Dense(24, activation=\"relu\", name=\"layer2\"),\n",
        "#      Dense(24, activation=\"relu\", name=\"layer3\"),\n",
        "#      Dense(24, activation=\"relu\", name=\"layer4\"),\n",
        "#      Dense(3, activation=\"softmax\", name=\"layer5\"),\n",
        "#      ]\n",
        "#  )"
      ],
      "execution_count": 19,
      "outputs": []
    },
    {
      "cell_type": "code",
      "metadata": {
        "colab": {
          "base_uri": "https://localhost:8080/"
        },
        "id": "nKTnpbLXHH1S",
        "outputId": "75313299-5476-479b-b3b5-ec9f3c46b465"
      },
      "source": [
        "print(\"[INFO] training network ...\")\n",
        "opt = Adam(lr=1e-3, decay=1e-3 / 50)\n",
        "model.compile(loss=\"categorical_crossentropy\", optimizer=opt, metrics=[\"accuracy\"])\n",
        "H = model.fit(trainX, trainY, validation_data=(testX, testY), epochs=100, batch_size=32)"
      ],
      "execution_count": 34,
      "outputs": [
        {
          "output_type": "stream",
          "text": [
            "[INFO] training network ...\n",
            "Epoch 1/100\n",
            "13/13 [==============================] - 4s 324ms/step - loss: 1.6224 - accuracy: 0.2092 - val_loss: 1.6286 - val_accuracy: 0.1921\n",
            "Epoch 2/100\n",
            "13/13 [==============================] - 4s 302ms/step - loss: 1.6229 - accuracy: 0.1995 - val_loss: 1.6089 - val_accuracy: 0.1977\n",
            "Epoch 3/100\n",
            "13/13 [==============================] - 4s 303ms/step - loss: 1.6120 - accuracy: 0.1800 - val_loss: 1.6056 - val_accuracy: 0.2429\n",
            "Epoch 4/100\n",
            "13/13 [==============================] - 4s 309ms/step - loss: 1.6066 - accuracy: 0.2165 - val_loss: 1.6082 - val_accuracy: 0.2034\n",
            "Epoch 5/100\n",
            "13/13 [==============================] - 4s 315ms/step - loss: 1.5977 - accuracy: 0.2263 - val_loss: 1.5913 - val_accuracy: 0.2768\n",
            "Epoch 6/100\n",
            "13/13 [==============================] - 4s 303ms/step - loss: 1.5692 - accuracy: 0.2871 - val_loss: 1.5245 - val_accuracy: 0.2712\n",
            "Epoch 7/100\n",
            "13/13 [==============================] - 4s 294ms/step - loss: 1.4902 - accuracy: 0.3406 - val_loss: 1.4328 - val_accuracy: 0.3785\n",
            "Epoch 8/100\n",
            "13/13 [==============================] - 4s 295ms/step - loss: 1.4251 - accuracy: 0.3455 - val_loss: 1.4361 - val_accuracy: 0.3616\n",
            "Epoch 9/100\n",
            "13/13 [==============================] - 4s 301ms/step - loss: 1.3570 - accuracy: 0.4453 - val_loss: 1.3710 - val_accuracy: 0.3785\n",
            "Epoch 10/100\n",
            "13/13 [==============================] - 4s 309ms/step - loss: 1.2802 - accuracy: 0.4599 - val_loss: 1.3021 - val_accuracy: 0.4802\n",
            "Epoch 11/100\n",
            "13/13 [==============================] - 4s 307ms/step - loss: 1.2453 - accuracy: 0.4818 - val_loss: 1.2918 - val_accuracy: 0.4802\n",
            "Epoch 12/100\n",
            "13/13 [==============================] - 4s 301ms/step - loss: 1.1297 - accuracy: 0.5547 - val_loss: 1.1904 - val_accuracy: 0.4633\n",
            "Epoch 13/100\n",
            "13/13 [==============================] - 4s 297ms/step - loss: 1.0828 - accuracy: 0.5718 - val_loss: 1.1247 - val_accuracy: 0.5763\n",
            "Epoch 14/100\n",
            "13/13 [==============================] - 5s 394ms/step - loss: 0.9758 - accuracy: 0.6131 - val_loss: 1.0043 - val_accuracy: 0.6215\n",
            "Epoch 15/100\n",
            "13/13 [==============================] - 5s 423ms/step - loss: 0.9024 - accuracy: 0.6375 - val_loss: 1.0244 - val_accuracy: 0.5593\n",
            "Epoch 16/100\n",
            "13/13 [==============================] - 4s 300ms/step - loss: 0.7926 - accuracy: 0.7007 - val_loss: 0.8733 - val_accuracy: 0.6610\n",
            "Epoch 17/100\n",
            "13/13 [==============================] - 4s 297ms/step - loss: 0.6939 - accuracy: 0.7275 - val_loss: 0.7961 - val_accuracy: 0.6893\n",
            "Epoch 18/100\n",
            "13/13 [==============================] - 4s 302ms/step - loss: 0.6360 - accuracy: 0.7543 - val_loss: 0.7112 - val_accuracy: 0.7571\n",
            "Epoch 19/100\n",
            "13/13 [==============================] - 4s 298ms/step - loss: 0.5621 - accuracy: 0.7835 - val_loss: 0.7387 - val_accuracy: 0.7288\n",
            "Epoch 20/100\n",
            "13/13 [==============================] - 4s 298ms/step - loss: 0.6522 - accuracy: 0.7518 - val_loss: 0.7424 - val_accuracy: 0.7119\n",
            "Epoch 21/100\n",
            "13/13 [==============================] - 4s 299ms/step - loss: 0.6199 - accuracy: 0.7494 - val_loss: 0.6752 - val_accuracy: 0.7458\n",
            "Epoch 22/100\n",
            "13/13 [==============================] - 4s 299ms/step - loss: 0.4613 - accuracy: 0.8370 - val_loss: 0.6286 - val_accuracy: 0.7740\n",
            "Epoch 23/100\n",
            "13/13 [==============================] - 4s 301ms/step - loss: 0.3787 - accuracy: 0.8418 - val_loss: 0.5391 - val_accuracy: 0.8192\n",
            "Epoch 24/100\n",
            "13/13 [==============================] - 4s 300ms/step - loss: 0.3427 - accuracy: 0.8589 - val_loss: 0.5817 - val_accuracy: 0.7797\n",
            "Epoch 25/100\n",
            "13/13 [==============================] - 4s 311ms/step - loss: 0.3593 - accuracy: 0.8516 - val_loss: 0.5683 - val_accuracy: 0.7966\n",
            "Epoch 26/100\n",
            "13/13 [==============================] - 4s 333ms/step - loss: 0.3401 - accuracy: 0.8564 - val_loss: 0.6622 - val_accuracy: 0.7684\n",
            "Epoch 27/100\n",
            "13/13 [==============================] - 4s 321ms/step - loss: 0.3089 - accuracy: 0.8735 - val_loss: 0.5582 - val_accuracy: 0.7853\n",
            "Epoch 28/100\n",
            "13/13 [==============================] - 4s 303ms/step - loss: 0.3257 - accuracy: 0.8589 - val_loss: 0.5439 - val_accuracy: 0.7966\n",
            "Epoch 29/100\n",
            "13/13 [==============================] - 4s 301ms/step - loss: 0.2571 - accuracy: 0.8881 - val_loss: 0.5575 - val_accuracy: 0.7966\n",
            "Epoch 30/100\n",
            "13/13 [==============================] - 4s 301ms/step - loss: 0.2624 - accuracy: 0.8856 - val_loss: 0.5136 - val_accuracy: 0.8023\n",
            "Epoch 31/100\n",
            "13/13 [==============================] - 4s 300ms/step - loss: 0.2120 - accuracy: 0.9173 - val_loss: 0.5162 - val_accuracy: 0.8192\n",
            "Epoch 32/100\n",
            "13/13 [==============================] - 4s 302ms/step - loss: 0.1799 - accuracy: 0.9392 - val_loss: 0.6138 - val_accuracy: 0.7853\n",
            "Epoch 33/100\n",
            "13/13 [==============================] - 4s 300ms/step - loss: 0.1789 - accuracy: 0.9246 - val_loss: 0.6020 - val_accuracy: 0.8192\n",
            "Epoch 34/100\n",
            "13/13 [==============================] - 4s 302ms/step - loss: 0.1540 - accuracy: 0.9319 - val_loss: 0.5567 - val_accuracy: 0.8249\n",
            "Epoch 35/100\n",
            "13/13 [==============================] - 4s 301ms/step - loss: 0.1144 - accuracy: 0.9684 - val_loss: 0.5520 - val_accuracy: 0.8305\n",
            "Epoch 36/100\n",
            "13/13 [==============================] - 4s 305ms/step - loss: 0.0940 - accuracy: 0.9732 - val_loss: 0.5800 - val_accuracy: 0.8136\n",
            "Epoch 37/100\n",
            "13/13 [==============================] - 4s 307ms/step - loss: 0.0981 - accuracy: 0.9611 - val_loss: 0.6135 - val_accuracy: 0.8305\n",
            "Epoch 38/100\n",
            "13/13 [==============================] - 4s 301ms/step - loss: 0.0867 - accuracy: 0.9659 - val_loss: 0.6582 - val_accuracy: 0.8192\n",
            "Epoch 39/100\n",
            "13/13 [==============================] - 4s 302ms/step - loss: 0.0921 - accuracy: 0.9611 - val_loss: 0.5800 - val_accuracy: 0.8136\n",
            "Epoch 40/100\n",
            "13/13 [==============================] - 4s 302ms/step - loss: 0.1050 - accuracy: 0.9586 - val_loss: 0.6865 - val_accuracy: 0.8023\n",
            "Epoch 41/100\n",
            "13/13 [==============================] - 4s 303ms/step - loss: 0.1141 - accuracy: 0.9538 - val_loss: 0.6800 - val_accuracy: 0.8192\n",
            "Epoch 42/100\n",
            "13/13 [==============================] - 4s 301ms/step - loss: 0.0919 - accuracy: 0.9586 - val_loss: 0.7087 - val_accuracy: 0.8023\n",
            "Epoch 43/100\n",
            "13/13 [==============================] - 4s 310ms/step - loss: 0.1024 - accuracy: 0.9635 - val_loss: 0.6478 - val_accuracy: 0.7966\n",
            "Epoch 44/100\n",
            "13/13 [==============================] - 4s 309ms/step - loss: 0.0850 - accuracy: 0.9635 - val_loss: 0.6633 - val_accuracy: 0.8023\n",
            "Epoch 45/100\n",
            "13/13 [==============================] - 4s 307ms/step - loss: 0.0763 - accuracy: 0.9757 - val_loss: 0.6448 - val_accuracy: 0.8305\n",
            "Epoch 46/100\n",
            "13/13 [==============================] - 4s 313ms/step - loss: 0.0836 - accuracy: 0.9684 - val_loss: 0.9563 - val_accuracy: 0.7119\n",
            "Epoch 47/100\n",
            "13/13 [==============================] - 4s 313ms/step - loss: 0.0812 - accuracy: 0.9757 - val_loss: 0.7170 - val_accuracy: 0.7966\n",
            "Epoch 48/100\n",
            "13/13 [==============================] - 4s 302ms/step - loss: 0.0670 - accuracy: 0.9732 - val_loss: 0.6059 - val_accuracy: 0.8305\n",
            "Epoch 49/100\n",
            "13/13 [==============================] - 4s 302ms/step - loss: 0.0456 - accuracy: 0.9854 - val_loss: 0.6220 - val_accuracy: 0.8136\n",
            "Epoch 50/100\n",
            "13/13 [==============================] - 4s 304ms/step - loss: 0.0306 - accuracy: 0.9951 - val_loss: 0.6439 - val_accuracy: 0.8192\n",
            "Epoch 51/100\n",
            "13/13 [==============================] - 4s 301ms/step - loss: 0.0212 - accuracy: 0.9927 - val_loss: 0.6569 - val_accuracy: 0.7966\n",
            "Epoch 52/100\n",
            "13/13 [==============================] - 4s 300ms/step - loss: 0.0332 - accuracy: 0.9878 - val_loss: 0.6803 - val_accuracy: 0.8136\n",
            "Epoch 53/100\n",
            "13/13 [==============================] - 4s 303ms/step - loss: 0.0517 - accuracy: 0.9757 - val_loss: 0.6436 - val_accuracy: 0.8023\n",
            "Epoch 54/100\n",
            "13/13 [==============================] - 4s 303ms/step - loss: 0.1471 - accuracy: 0.9489 - val_loss: 0.7519 - val_accuracy: 0.7966\n",
            "Epoch 55/100\n",
            "13/13 [==============================] - 4s 300ms/step - loss: 0.0981 - accuracy: 0.9611 - val_loss: 0.7526 - val_accuracy: 0.7853\n",
            "Epoch 56/100\n",
            "13/13 [==============================] - 4s 300ms/step - loss: 0.0718 - accuracy: 0.9732 - val_loss: 0.6491 - val_accuracy: 0.8079\n",
            "Epoch 57/100\n",
            "13/13 [==============================] - 4s 306ms/step - loss: 0.0358 - accuracy: 0.9927 - val_loss: 0.6863 - val_accuracy: 0.7797\n",
            "Epoch 58/100\n",
            "13/13 [==============================] - 4s 303ms/step - loss: 0.0381 - accuracy: 0.9854 - val_loss: 0.7630 - val_accuracy: 0.7966\n",
            "Epoch 59/100\n",
            "13/13 [==============================] - 4s 301ms/step - loss: 0.0287 - accuracy: 0.9951 - val_loss: 0.7802 - val_accuracy: 0.7853\n",
            "Epoch 60/100\n",
            "13/13 [==============================] - 4s 309ms/step - loss: 0.0157 - accuracy: 0.9976 - val_loss: 0.6893 - val_accuracy: 0.8136\n",
            "Epoch 61/100\n",
            "13/13 [==============================] - 4s 316ms/step - loss: 0.0201 - accuracy: 0.9927 - val_loss: 0.6651 - val_accuracy: 0.8249\n",
            "Epoch 62/100\n",
            "13/13 [==============================] - 4s 304ms/step - loss: 0.0130 - accuracy: 0.9976 - val_loss: 0.7378 - val_accuracy: 0.7966\n",
            "Epoch 63/100\n",
            "13/13 [==============================] - 4s 302ms/step - loss: 0.0099 - accuracy: 0.9976 - val_loss: 0.7134 - val_accuracy: 0.8023\n",
            "Epoch 64/100\n",
            "13/13 [==============================] - 4s 303ms/step - loss: 0.0101 - accuracy: 0.9976 - val_loss: 0.6953 - val_accuracy: 0.8023\n",
            "Epoch 65/100\n",
            "13/13 [==============================] - 4s 301ms/step - loss: 0.0106 - accuracy: 0.9976 - val_loss: 0.7270 - val_accuracy: 0.8023\n",
            "Epoch 66/100\n",
            "13/13 [==============================] - 4s 301ms/step - loss: 0.0166 - accuracy: 0.9927 - val_loss: 0.8639 - val_accuracy: 0.7740\n",
            "Epoch 67/100\n",
            "13/13 [==============================] - 4s 309ms/step - loss: 0.0316 - accuracy: 0.9878 - val_loss: 0.7817 - val_accuracy: 0.8079\n",
            "Epoch 68/100\n",
            "13/13 [==============================] - 4s 306ms/step - loss: 0.0653 - accuracy: 0.9781 - val_loss: 0.7529 - val_accuracy: 0.7910\n",
            "Epoch 69/100\n",
            "13/13 [==============================] - 4s 305ms/step - loss: 0.0262 - accuracy: 0.9927 - val_loss: 0.7974 - val_accuracy: 0.7797\n",
            "Epoch 70/100\n",
            "13/13 [==============================] - 4s 302ms/step - loss: 0.0124 - accuracy: 1.0000 - val_loss: 0.7827 - val_accuracy: 0.7966\n",
            "Epoch 71/100\n",
            "13/13 [==============================] - 4s 302ms/step - loss: 0.0091 - accuracy: 1.0000 - val_loss: 0.8026 - val_accuracy: 0.8023\n",
            "Epoch 72/100\n",
            "13/13 [==============================] - 4s 305ms/step - loss: 0.0077 - accuracy: 1.0000 - val_loss: 0.7908 - val_accuracy: 0.7910\n",
            "Epoch 73/100\n",
            "13/13 [==============================] - 4s 301ms/step - loss: 0.0060 - accuracy: 1.0000 - val_loss: 0.7953 - val_accuracy: 0.8079\n",
            "Epoch 74/100\n",
            "13/13 [==============================] - 4s 302ms/step - loss: 0.0056 - accuracy: 1.0000 - val_loss: 0.8254 - val_accuracy: 0.7910\n",
            "Epoch 75/100\n",
            "13/13 [==============================] - 4s 300ms/step - loss: 0.0041 - accuracy: 1.0000 - val_loss: 0.8356 - val_accuracy: 0.7910\n",
            "Epoch 76/100\n",
            "13/13 [==============================] - 4s 309ms/step - loss: 0.0038 - accuracy: 1.0000 - val_loss: 0.8721 - val_accuracy: 0.7853\n",
            "Epoch 77/100\n",
            "13/13 [==============================] - 4s 331ms/step - loss: 0.0034 - accuracy: 1.0000 - val_loss: 0.8328 - val_accuracy: 0.8079\n",
            "Epoch 78/100\n",
            "13/13 [==============================] - 4s 326ms/step - loss: 0.0035 - accuracy: 1.0000 - val_loss: 0.8990 - val_accuracy: 0.7797\n",
            "Epoch 79/100\n",
            "13/13 [==============================] - 4s 306ms/step - loss: 0.0054 - accuracy: 0.9976 - val_loss: 0.8520 - val_accuracy: 0.7966\n",
            "Epoch 80/100\n",
            "13/13 [==============================] - 4s 301ms/step - loss: 0.0108 - accuracy: 0.9951 - val_loss: 0.8424 - val_accuracy: 0.8136\n",
            "Epoch 81/100\n",
            "13/13 [==============================] - 4s 302ms/step - loss: 0.0055 - accuracy: 1.0000 - val_loss: 0.8613 - val_accuracy: 0.7966\n",
            "Epoch 82/100\n",
            "13/13 [==============================] - 4s 303ms/step - loss: 0.0032 - accuracy: 1.0000 - val_loss: 0.8863 - val_accuracy: 0.7797\n",
            "Epoch 83/100\n",
            "13/13 [==============================] - 4s 301ms/step - loss: 0.0026 - accuracy: 1.0000 - val_loss: 0.8980 - val_accuracy: 0.7853\n",
            "Epoch 84/100\n",
            "13/13 [==============================] - 4s 302ms/step - loss: 0.0020 - accuracy: 1.0000 - val_loss: 0.9000 - val_accuracy: 0.8023\n",
            "Epoch 85/100\n",
            "13/13 [==============================] - 4s 302ms/step - loss: 0.0018 - accuracy: 1.0000 - val_loss: 0.8879 - val_accuracy: 0.8023\n",
            "Epoch 86/100\n",
            "13/13 [==============================] - 4s 303ms/step - loss: 0.0017 - accuracy: 1.0000 - val_loss: 0.9073 - val_accuracy: 0.8023\n",
            "Epoch 87/100\n",
            "13/13 [==============================] - 4s 306ms/step - loss: 0.0016 - accuracy: 1.0000 - val_loss: 0.9125 - val_accuracy: 0.8023\n",
            "Epoch 88/100\n",
            "13/13 [==============================] - 4s 301ms/step - loss: 0.0014 - accuracy: 1.0000 - val_loss: 0.9165 - val_accuracy: 0.8023\n",
            "Epoch 89/100\n",
            "13/13 [==============================] - 4s 300ms/step - loss: 0.0013 - accuracy: 1.0000 - val_loss: 0.9309 - val_accuracy: 0.7966\n",
            "Epoch 90/100\n",
            "13/13 [==============================] - 4s 303ms/step - loss: 0.0013 - accuracy: 1.0000 - val_loss: 0.9211 - val_accuracy: 0.8023\n",
            "Epoch 91/100\n",
            "13/13 [==============================] - 4s 303ms/step - loss: 0.0013 - accuracy: 1.0000 - val_loss: 0.9304 - val_accuracy: 0.7966\n",
            "Epoch 92/100\n",
            "13/13 [==============================] - 4s 304ms/step - loss: 0.0012 - accuracy: 1.0000 - val_loss: 0.9367 - val_accuracy: 0.8023\n",
            "Epoch 93/100\n",
            "13/13 [==============================] - 4s 305ms/step - loss: 0.0011 - accuracy: 1.0000 - val_loss: 0.9355 - val_accuracy: 0.8023\n",
            "Epoch 94/100\n",
            "13/13 [==============================] - 4s 319ms/step - loss: 0.0011 - accuracy: 1.0000 - val_loss: 0.9411 - val_accuracy: 0.8023\n",
            "Epoch 95/100\n",
            "13/13 [==============================] - 4s 307ms/step - loss: 0.0011 - accuracy: 1.0000 - val_loss: 0.9424 - val_accuracy: 0.8023\n",
            "Epoch 96/100\n",
            "13/13 [==============================] - 4s 307ms/step - loss: 9.5303e-04 - accuracy: 1.0000 - val_loss: 0.9620 - val_accuracy: 0.7966\n",
            "Epoch 97/100\n",
            "13/13 [==============================] - 4s 306ms/step - loss: 0.0011 - accuracy: 1.0000 - val_loss: 0.9410 - val_accuracy: 0.8023\n",
            "Epoch 98/100\n",
            "13/13 [==============================] - 4s 317ms/step - loss: 0.0012 - accuracy: 1.0000 - val_loss: 0.9579 - val_accuracy: 0.8023\n",
            "Epoch 99/100\n",
            "13/13 [==============================] - 4s 306ms/step - loss: 0.0011 - accuracy: 1.0000 - val_loss: 0.9658 - val_accuracy: 0.8023\n",
            "Epoch 100/100\n",
            "13/13 [==============================] - 4s 304ms/step - loss: 9.5761e-04 - accuracy: 1.0000 - val_loss: 0.9468 - val_accuracy: 0.8023\n"
          ],
          "name": "stdout"
        }
      ]
    },
    {
      "cell_type": "code",
      "metadata": {
        "colab": {
          "base_uri": "https://localhost:8080/",
          "height": 572
        },
        "id": "9o8nVbjtHXh_",
        "outputId": "226a7967-ad3d-4ad8-fd1e-a2e6dea6c345"
      },
      "source": [
        "plt.plot(H.history['accuracy'])\n",
        "plt.plot(H.history['val_accuracy'])\n",
        "plt.title('model accuracy')\n",
        "plt.ylabel('accuracy')\n",
        "plt.xlabel('epoch')\n",
        "plt.legend(['train', 'test'], loc='upper left')\n",
        "plt.show()\n",
        "\n",
        "plt.plot(H.history['loss'])\n",
        "plt.plot(H.history['val_loss'])\n",
        "plt.title('model loss')\n",
        "plt.ylabel('loss')\n",
        "plt.xlabel('epoch')\n",
        "plt.legend(['train', 'test'], loc='upper left')\n",
        "plt.show()"
      ],
      "execution_count": 35,
      "outputs": [
        {
          "output_type": "display_data",
          "data": {
            "image/png": "[encoded data removed]",
            "text/plain": [
              "<Figure size 432x288 with 1 Axes>"
            ]
          },
          "metadata": {
            "tags": [],
            "needs_background": "light"
          }
        },
        {
          "output_type": "display_data",
          "data": {
            "image/png": "[encoded data removed]",
            "text/plain": [
              "<Figure size 432x288 with 1 Axes>"
            ]
          },
          "metadata": {
            "tags": [],
            "needs_background": "light"
          }
        }
      ]
    },
    {
      "cell_type": "code",
      "metadata": {
        "colab": {
          "base_uri": "https://localhost:8080/"
        },
        "id": "gKZigeHPHcxM",
        "outputId": "108d6b5b-4353-465c-ddc9-9df42e5ad371"
      },
      "source": [
        "print(\"[INFO] evaluating network ...\")\n",
        "predictions = model.predict(testX, batch_size=32)\n",
        "print(classification_report(testY.argmax(axis=1), predictions.argmax(axis=1), target_names=lb.classes_))"
      ],
      "execution_count": 36,
      "outputs": [
        {
          "output_type": "stream",
          "text": [
            "[INFO] evaluating network ...\n",
            "              precision    recall  f1-score   support\n",
            "\n",
            "      GMB_06       0.79      0.53      0.63        36\n",
            "      GMB_07       0.82      0.89      0.85        36\n",
            "      GMB_08       0.69      0.88      0.77        33\n",
            "      GMB_09       0.84      0.91      0.88        35\n",
            "      GMB_10       0.88      0.81      0.85        37\n",
            "\n",
            "    accuracy                           0.80       177\n",
            "   macro avg       0.81      0.80      0.80       177\n",
            "weighted avg       0.81      0.80      0.80       177\n",
            "\n"
          ],
          "name": "stdout"
        }
      ]
    },
    {
      "cell_type": "code",
      "metadata": {
        "id": "Pd1NhD1eHfi9"
      },
      "source": [
        ""
      ],
      "execution_count": null,
      "outputs": []
    }
  ]
}